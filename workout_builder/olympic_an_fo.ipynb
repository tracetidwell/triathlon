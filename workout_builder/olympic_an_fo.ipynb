{
 "cells": [
  {
   "cell_type": "code",
   "execution_count": 99,
   "metadata": {
    "collapsed": true
   },
   "outputs": [],
   "source": [
    "import math\n",
    "import numpy as np"
   ]
  },
  {
   "cell_type": "code",
   "execution_count": 85,
   "metadata": {
    "collapsed": true
   },
   "outputs": [],
   "source": [
    "def warmup(length, start_if, stop_if, num_intervals):\n",
    "    duration = length / num_intervals\n",
    "    step = (stop_if - start_if) / (num_intervals-1)\n",
    "    times = [duration] * num_intervals\n",
    "    ifs = [start_if + step*i for i in range(num_intervals)]\n",
    "    return [times, ifs]"
   ]
  },
  {
   "cell_type": "code",
   "execution_count": 89,
   "metadata": {
    "collapsed": true
   },
   "outputs": [],
   "source": [
    "def an_fo(num_intervals, t_if, r_if):\n",
    "    times = [3] * num_intervals * 2\n",
    "    ifs = [t_if, r_if] * num_intervals\n",
    "    return [times, ifs]"
   ]
  },
  {
   "cell_type": "code",
   "execution_count": 91,
   "metadata": {
    "collapsed": true
   },
   "outputs": [],
   "source": [
    "def cool(duration, t_if):\n",
    "    return [[duration/1.0], [t_if]]"
   ]
  },
  {
   "cell_type": "code",
   "execution_count": 72,
   "metadata": {
    "collapsed": true
   },
   "outputs": [],
   "source": [
    "def workout_summary(times, ifs):\n",
    "    tss = 0\n",
    "    t_if = 0\n",
    "    duration = sum(times)/60\n",
    "    for i in range(len(times)):\n",
    "        tss += times[i] * ifs[i]**2\n",
    "    tss *= (100/60)\n",
    "    t_if = math.sqrt(tss / duration / 100)\n",
    "    print(\"Workout Details\")\n",
    "    for i in range(len(times)):\n",
    "        print(\"Interval {} - Duration: {:.2f}, IF: {:.2f}\".format(i+1, times[i], ifs[i]))\n",
    "    print(\"Workout Summary\")\n",
    "    print(\"Total TSS: {:.2f}, Average IF: {:.2f}\".format(tss, t_if))\n",
    "    #return tss, t_if"
   ]
  },
  {
   "cell_type": "code",
   "execution_count": 87,
   "metadata": {
    "collapsed": true
   },
   "outputs": [],
   "source": [
    "warmup = warmup(20, 0.5, 0.65, 4)"
   ]
  },
  {
   "cell_type": "code",
   "execution_count": 90,
   "metadata": {
    "collapsed": true
   },
   "outputs": [],
   "source": [
    "an_fo = an_fo(5, 1.1, 0.6)"
   ]
  },
  {
   "cell_type": "code",
   "execution_count": 92,
   "metadata": {
    "collapsed": true
   },
   "outputs": [],
   "source": [
    "cool = cool(40, 0.65)"
   ]
  },
  {
   "cell_type": "code",
   "execution_count": 116,
   "metadata": {},
   "outputs": [
    {
     "data": {
      "text/plain": [
       "array([[ 5.  ,  5.  ,  5.  ,  5.  ,  3.  ,  3.  ,  3.  ,  3.  ,  3.  ,\n",
       "         3.  ,  3.  ,  3.  ,  3.  ,  3.  ],\n",
       "       [ 0.5 ,  0.55,  0.6 ,  0.65,  1.1 ,  0.6 ,  1.1 ,  0.6 ,  1.1 ,\n",
       "         0.6 ,  1.1 ,  0.6 ,  1.1 ,  0.6 ]])"
      ]
     },
     "execution_count": 116,
     "metadata": {},
     "output_type": "execute_result"
    }
   ],
   "source": [
    "workout = []\n",
    "workout = np.append(warmup, an_fo, axis=1)\n",
    "workout"
   ]
  },
  {
   "cell_type": "code",
   "execution_count": 118,
   "metadata": {},
   "outputs": [
    {
     "data": {
      "text/plain": [
       "array([[  5.  ,   5.  ,   5.  ,   5.  ,   3.  ,   3.  ,   3.  ,   3.  ,\n",
       "          3.  ,   3.  ,   3.  ,   3.  ,   3.  ,   3.  ,  40.  ],\n",
       "       [  0.5 ,   0.55,   0.6 ,   0.65,   1.1 ,   0.6 ,   1.1 ,   0.6 ,\n",
       "          1.1 ,   0.6 ,   1.1 ,   0.6 ,   1.1 ,   0.6 ,   0.65]])"
      ]
     },
     "execution_count": 118,
     "metadata": {},
     "output_type": "execute_result"
    }
   ],
   "source": [
    "workout = np.append(workout, cool, axis=1)\n",
    "workout"
   ]
  },
  {
   "cell_type": "code",
   "execution_count": 112,
   "metadata": {},
   "outputs": [
    {
     "data": {
      "text/plain": [
       "array([[ 5.  ,  5.  ,  5.  ,  5.  ,  3.  ,  3.  ,  3.  ,  3.  ,  3.  ,\n",
       "         3.  ,  3.  ,  3.  ,  3.  ,  3.  ],\n",
       "       [ 0.5 ,  0.55,  0.6 ,  0.65,  1.1 ,  0.6 ,  1.1 ,  0.6 ,  1.1 ,\n",
       "         0.6 ,  1.1 ,  0.6 ,  1.1 ,  0.6 ]])"
      ]
     },
     "execution_count": 112,
     "metadata": {},
     "output_type": "execute_result"
    }
   ],
   "source": [
    "workout"
   ]
  },
  {
   "cell_type": "code",
   "execution_count": 95,
   "metadata": {},
   "outputs": [
    {
     "data": {
      "text/plain": [
       "[[40.0], [0.65]]"
      ]
     },
     "execution_count": 95,
     "metadata": {},
     "output_type": "execute_result"
    }
   ],
   "source": [
    "cool"
   ]
  },
  {
   "cell_type": "code",
   "execution_count": 97,
   "metadata": {},
   "outputs": [
    {
     "data": {
      "text/plain": [
       "[[5.0, 5.0, 5.0, 5.0], [0.5, 0.55, 0.6, 0.65]]"
      ]
     },
     "execution_count": 97,
     "metadata": {},
     "output_type": "execute_result"
    }
   ],
   "source": [
    "workout = []\n",
    "workout.extend(warmup)\n",
    "workout"
   ]
  },
  {
   "cell_type": "code",
   "execution_count": 98,
   "metadata": {},
   "outputs": [
    {
     "data": {
      "text/plain": [
       "[[5.0, 5.0, 5.0, 5.0],\n",
       " [0.5, 0.55, 0.6, 0.65],\n",
       " [3, 3, 3, 3, 3, 3, 3, 3, 3, 3],\n",
       " [1.1, 0.6, 1.1, 0.6, 1.1, 0.6, 1.1, 0.6, 1.1, 0.6]]"
      ]
     },
     "execution_count": 98,
     "metadata": {},
     "output_type": "execute_result"
    }
   ],
   "source": [
    "workout.extend(an_fo)\n",
    "workout"
   ]
  },
  {
   "cell_type": "code",
   "execution_count": 77,
   "metadata": {},
   "outputs": [],
   "source": [
    "times.extend(t)\n",
    "ifs.extend(i)"
   ]
  },
  {
   "cell_type": "code",
   "execution_count": 79,
   "metadata": {},
   "outputs": [],
   "source": [
    "times.extend(t)\n",
    "ifs.extend(i)"
   ]
  },
  {
   "cell_type": "code",
   "execution_count": 84,
   "metadata": {},
   "outputs": [
    {
     "name": "stdout",
     "output_type": "stream",
     "text": [
      "Workout Details\n",
      "Interval 1 - Duration: 5.00, IF: 0.50\n",
      "Interval 2 - Duration: 5.00, IF: 0.55\n",
      "Interval 3 - Duration: 5.00, IF: 0.60\n",
      "Interval 4 - Duration: 5.00, IF: 0.65\n",
      "Interval 5 - Duration: 3.00, IF: 1.10\n",
      "Interval 6 - Duration: 3.00, IF: 0.60\n",
      "Interval 7 - Duration: 3.00, IF: 1.10\n",
      "Interval 8 - Duration: 3.00, IF: 0.60\n",
      "Interval 9 - Duration: 3.00, IF: 1.10\n",
      "Interval 10 - Duration: 3.00, IF: 0.60\n",
      "Interval 11 - Duration: 3.00, IF: 1.10\n",
      "Interval 12 - Duration: 3.00, IF: 0.60\n",
      "Interval 13 - Duration: 3.00, IF: 1.10\n",
      "Interval 14 - Duration: 3.00, IF: 0.60\n",
      "Interval 15 - Duration: 40.00, IF: 0.65\n",
      "Workout Summary\n",
      "Total TSS: 78.54, Average IF: 0.72\n"
     ]
    }
   ],
   "source": [
    "workout_summary(times, ifs)"
   ]
  },
  {
   "cell_type": "code",
   "execution_count": 80,
   "metadata": {},
   "outputs": [
    {
     "data": {
      "text/plain": [
       "[5.0, 5.0, 5.0, 5.0, 3, 3, 3, 3, 3, 3, 3, 3, 3, 3, 40.0]"
      ]
     },
     "execution_count": 80,
     "metadata": {},
     "output_type": "execute_result"
    }
   ],
   "source": [
    "times"
   ]
  },
  {
   "cell_type": "code",
   "execution_count": 81,
   "metadata": {},
   "outputs": [
    {
     "data": {
      "text/plain": [
       "[0.5, 0.55, 0.6, 0.65, 1.1, 0.6, 1.1, 0.6, 1.1, 0.6, 1.1, 0.6, 1.1, 0.6, 0.65]"
      ]
     },
     "execution_count": 81,
     "metadata": {},
     "output_type": "execute_result"
    }
   ],
   "source": [
    "ifs"
   ]
  },
  {
   "cell_type": "code",
   "execution_count": 82,
   "metadata": {},
   "outputs": [
    {
     "data": {
      "text/plain": [
       "15"
      ]
     },
     "execution_count": 82,
     "metadata": {},
     "output_type": "execute_result"
    }
   ],
   "source": [
    "len(times)"
   ]
  },
  {
   "cell_type": "code",
   "execution_count": 83,
   "metadata": {},
   "outputs": [
    {
     "data": {
      "text/plain": [
       "15"
      ]
     },
     "execution_count": 83,
     "metadata": {},
     "output_type": "execute_result"
    }
   ],
   "source": [
    "len(ifs)"
   ]
  },
  {
   "cell_type": "code",
   "execution_count": 62,
   "metadata": {},
   "outputs": [
    {
     "data": {
      "text/plain": [
       "78.54166666666667"
      ]
     },
     "execution_count": 62,
     "metadata": {},
     "output_type": "execute_result"
    }
   ],
   "source": [
    "tss"
   ]
  },
  {
   "cell_type": "code",
   "execution_count": 63,
   "metadata": {},
   "outputs": [
    {
     "data": {
      "text/plain": [
       "0.7236097782030804"
      ]
     },
     "execution_count": 63,
     "metadata": {},
     "output_type": "execute_result"
    }
   ],
   "source": [
    "t_if"
   ]
  },
  {
   "cell_type": "code",
   "execution_count": null,
   "metadata": {
    "collapsed": true
   },
   "outputs": [],
   "source": []
  }
 ],
 "metadata": {
  "anaconda-cloud": {},
  "kernelspec": {
   "display_name": "Python [conda root]",
   "language": "python",
   "name": "conda-root-py"
  },
  "language_info": {
   "codemirror_mode": {
    "name": "ipython",
    "version": 3
   },
   "file_extension": ".py",
   "mimetype": "text/x-python",
   "name": "python",
   "nbconvert_exporter": "python",
   "pygments_lexer": "ipython3",
   "version": "3.5.2"
  }
 },
 "nbformat": 4,
 "nbformat_minor": 2
}
