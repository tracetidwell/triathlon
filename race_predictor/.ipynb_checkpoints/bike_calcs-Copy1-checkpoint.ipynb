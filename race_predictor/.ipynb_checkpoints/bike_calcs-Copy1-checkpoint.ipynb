{
 "cells": [
  {
   "cell_type": "code",
   "execution_count": 148,
   "metadata": {
    "collapsed": true
   },
   "outputs": [],
   "source": [
    "import numpy as np\n",
    "import pandas as pd\n",
    "from decimal import Decimal\n",
    "import math"
   ]
  },
  {
   "cell_type": "code",
   "execution_count": 149,
   "metadata": {
    "collapsed": true
   },
   "outputs": [],
   "source": [
    "CSS = 1.5\n",
    "FTP = 227\n",
    "FTPa = 6.83\n",
    "IF = 0.85"
   ]
  },
  {
   "cell_type": "code",
   "execution_count": 150,
   "metadata": {
    "collapsed": true
   },
   "outputs": [],
   "source": [
    "m_bike = 20 #mass of bike, kg\n",
    "m_rider = 68 #mass of rider, kg\n",
    "m_tot = m_bike + m_rider\n",
    "g = 9.81 #acceleration due to gravity, m/s^2\n",
    "Crr = 0.002475 #Coefficient of rolling friction\n",
    "CDA = 0.32\n",
    "rho = 1.29\n",
    "f_roll = m_tot * g * Crr\n",
    "c1 = 0.5 * rho * CDA\n",
    "q = -FTP / c1"
   ]
  },
  {
   "cell_type": "code",
   "execution_count": 151,
   "metadata": {
    "collapsed": true
   },
   "outputs": [],
   "source": [
    "data = pd.read_csv('RockNRollMan2.txt', header=None)"
   ]
  },
  {
   "cell_type": "code",
   "execution_count": 152,
   "metadata": {},
   "outputs": [
    {
     "data": {
      "text/html": [
       "<div>\n",
       "<table border=\"1\" class=\"dataframe\">\n",
       "  <thead>\n",
       "    <tr style=\"text-align: right;\">\n",
       "      <th></th>\n",
       "      <th>0</th>\n",
       "    </tr>\n",
       "  </thead>\n",
       "  <tbody>\n",
       "    <tr>\n",
       "      <th>0</th>\n",
       "      <td>&lt;?xml version=\"1.0\" encoding=\"UTF-8\"?&gt;</td>\n",
       "    </tr>\n",
       "    <tr>\n",
       "      <th>1</th>\n",
       "      <td>&lt;gpx creator=\"Best Bike Split\" version=\"1.0\" x...</td>\n",
       "    </tr>\n",
       "    <tr>\n",
       "      <th>2</th>\n",
       "      <td>&lt;metadata&gt;</td>\n",
       "    </tr>\n",
       "    <tr>\n",
       "      <th>3</th>\n",
       "      <td>&lt;link href=\"bestbikesplit.com\"&gt;</td>\n",
       "    </tr>\n",
       "    <tr>\n",
       "      <th>4</th>\n",
       "      <td>&lt;text&gt;Best Bike Split&lt;/text&gt;</td>\n",
       "    </tr>\n",
       "  </tbody>\n",
       "</table>\n",
       "</div>"
      ],
      "text/plain": [
       "                                                   0\n",
       "0             <?xml version=\"1.0\" encoding=\"UTF-8\"?>\n",
       "1  <gpx creator=\"Best Bike Split\" version=\"1.0\" x...\n",
       "2                                         <metadata>\n",
       "3                    <link href=\"bestbikesplit.com\">\n",
       "4                       <text>Best Bike Split</text>"
      ]
     },
     "execution_count": 152,
     "metadata": {},
     "output_type": "execute_result"
    }
   ],
   "source": [
    "data.head()"
   ]
  },
  {
   "cell_type": "code",
   "execution_count": 153,
   "metadata": {},
   "outputs": [
    {
     "data": {
      "text/plain": [
       "(47995, 1)"
      ]
     },
     "execution_count": 153,
     "metadata": {},
     "output_type": "execute_result"
    }
   ],
   "source": [
    "data.shape"
   ]
  },
  {
   "cell_type": "code",
   "execution_count": 154,
   "metadata": {
    "collapsed": true
   },
   "outputs": [],
   "source": [
    "data = data[:][0]"
   ]
  },
  {
   "cell_type": "code",
   "execution_count": 155,
   "metadata": {},
   "outputs": [
    {
     "data": {
      "text/plain": [
       "0               <?xml version=\"1.0\" encoding=\"UTF-8\"?>\n",
       "1    <gpx creator=\"Best Bike Split\" version=\"1.0\" x...\n",
       "2                                           <metadata>\n",
       "3                      <link href=\"bestbikesplit.com\">\n",
       "4                         <text>Best Bike Split</text>\n",
       "Name: 0, dtype: object"
      ]
     },
     "execution_count": 155,
     "metadata": {},
     "output_type": "execute_result"
    }
   ],
   "source": [
    "data.head()"
   ]
  },
  {
   "cell_type": "code",
   "execution_count": 156,
   "metadata": {
    "collapsed": true
   },
   "outputs": [],
   "source": [
    "columns = ['lat', 'lon', 'ele']"
   ]
  },
  {
   "cell_type": "code",
   "execution_count": 157,
   "metadata": {
    "collapsed": true
   },
   "outputs": [],
   "source": [
    "df = pd.DataFrame(columns = columns)"
   ]
  },
  {
   "cell_type": "code",
   "execution_count": 158,
   "metadata": {},
   "outputs": [
    {
     "data": {
      "text/html": [
       "<div>\n",
       "<table border=\"1\" class=\"dataframe\">\n",
       "  <thead>\n",
       "    <tr style=\"text-align: right;\">\n",
       "      <th></th>\n",
       "      <th>lat</th>\n",
       "      <th>lon</th>\n",
       "      <th>ele</th>\n",
       "    </tr>\n",
       "  </thead>\n",
       "  <tbody>\n",
       "  </tbody>\n",
       "</table>\n",
       "</div>"
      ],
      "text/plain": [
       "Empty DataFrame\n",
       "Columns: [lat, lon, ele]\n",
       "Index: []"
      ]
     },
     "execution_count": 158,
     "metadata": {},
     "output_type": "execute_result"
    }
   ],
   "source": [
    "df"
   ]
  },
  {
   "cell_type": "code",
   "execution_count": 159,
   "metadata": {
    "collapsed": true
   },
   "outputs": [],
   "source": [
    "for idx, row in data.iteritems():\n",
    "    if '<trkpt' in row:\n",
    "        for item in (row.strip()).split(' '):\n",
    "            if 'lat' in item:\n",
    "                lat = float(item[5:len(item)-1])\n",
    "            elif 'lon' in item:\n",
    "                lon = float(item[5:len(item)-2])\n",
    "        if '<ele>' in data[idx+1]:\n",
    "            ele = float(data[idx+1].strip()[5:len(data[idx+1].strip())-6])\n",
    "        df = df.append({'lat':lat, 'lon':lon, 'ele':ele}, ignore_index=True)"
   ]
  },
  {
   "cell_type": "code",
   "execution_count": 160,
   "metadata": {},
   "outputs": [
    {
     "data": {
      "text/html": [
       "<div>\n",
       "<table border=\"1\" class=\"dataframe\">\n",
       "  <thead>\n",
       "    <tr style=\"text-align: right;\">\n",
       "      <th></th>\n",
       "      <th>lat</th>\n",
       "      <th>lon</th>\n",
       "      <th>ele</th>\n",
       "    </tr>\n",
       "  </thead>\n",
       "  <tbody>\n",
       "    <tr>\n",
       "      <th>0</th>\n",
       "      <td>32.82591</td>\n",
       "      <td>-83.787985</td>\n",
       "      <td>122.1</td>\n",
       "    </tr>\n",
       "    <tr>\n",
       "      <th>1</th>\n",
       "      <td>32.82591</td>\n",
       "      <td>-83.787985</td>\n",
       "      <td>122.1</td>\n",
       "    </tr>\n",
       "    <tr>\n",
       "      <th>2</th>\n",
       "      <td>32.82591</td>\n",
       "      <td>-83.787985</td>\n",
       "      <td>122.1</td>\n",
       "    </tr>\n",
       "    <tr>\n",
       "      <th>3</th>\n",
       "      <td>32.82591</td>\n",
       "      <td>-83.787985</td>\n",
       "      <td>122.1</td>\n",
       "    </tr>\n",
       "    <tr>\n",
       "      <th>4</th>\n",
       "      <td>32.82591</td>\n",
       "      <td>-83.787985</td>\n",
       "      <td>122.1</td>\n",
       "    </tr>\n",
       "  </tbody>\n",
       "</table>\n",
       "</div>"
      ],
      "text/plain": [
       "        lat        lon    ele\n",
       "0  32.82591 -83.787985  122.1\n",
       "1  32.82591 -83.787985  122.1\n",
       "2  32.82591 -83.787985  122.1\n",
       "3  32.82591 -83.787985  122.1\n",
       "4  32.82591 -83.787985  122.1"
      ]
     },
     "execution_count": 160,
     "metadata": {},
     "output_type": "execute_result"
    }
   ],
   "source": [
    "df.head()"
   ]
  },
  {
   "cell_type": "code",
   "execution_count": 161,
   "metadata": {
    "collapsed": true
   },
   "outputs": [],
   "source": [
    "df.drop_duplicates(inplace=True)"
   ]
  },
  {
   "cell_type": "code",
   "execution_count": 162,
   "metadata": {
    "collapsed": true
   },
   "outputs": [],
   "source": [
    "def calc_distance(lat, lon):\n",
    "    sum_phi = (lat[1:] + lat[:-1]) * math.pi / 180\n",
    "    del_lam = (lon[1:] - lon[:-1]) * math.pi / 180\n",
    "    x = del_lam * np.cos(sum_phi/2)\n",
    "    y = (lat[1:] - lat[:-1]) * math.pi / 180\n",
    "    return 3959.0 * np.sqrt(np.power(x, 2) + np.power(y, 2)) * 5280.0"
   ]
  },
  {
   "cell_type": "code",
   "execution_count": 164,
   "metadata": {},
   "outputs": [],
   "source": [
    "d = calc_distance(np.array(df['lat'].values), np.array(df['lon'].values))"
   ]
  },
  {
   "cell_type": "code",
   "execution_count": 165,
   "metadata": {
    "collapsed": true
   },
   "outputs": [],
   "source": [
    "grade = np.array(df['ele'][1:].values - df['ele'][:-1].values) / d\n"
   ]
  },
  {
   "cell_type": "code",
   "execution_count": 166,
   "metadata": {
    "collapsed": true
   },
   "outputs": [],
   "source": [
    "df = df.iloc[1:]"
   ]
  },
  {
   "cell_type": "code",
   "execution_count": 167,
   "metadata": {
    "collapsed": true
   },
   "outputs": [],
   "source": [
    "df.reset_index(drop=True, inplace=True)"
   ]
  },
  {
   "cell_type": "code",
   "execution_count": 168,
   "metadata": {
    "collapsed": true
   },
   "outputs": [],
   "source": [
    "df.insert(loc=df.shape[1], column='d', value=d)"
   ]
  },
  {
   "cell_type": "code",
   "execution_count": 169,
   "metadata": {
    "collapsed": true
   },
   "outputs": [],
   "source": [
    "df.insert(loc=df.shape[1], column='grade', value=grade)"
   ]
  },
  {
   "cell_type": "code",
   "execution_count": 170,
   "metadata": {},
   "outputs": [
    {
     "data": {
      "text/html": [
       "<div>\n",
       "<table border=\"1\" class=\"dataframe\">\n",
       "  <thead>\n",
       "    <tr style=\"text-align: right;\">\n",
       "      <th></th>\n",
       "      <th>lat</th>\n",
       "      <th>lon</th>\n",
       "      <th>ele</th>\n",
       "      <th>d</th>\n",
       "      <th>grade</th>\n",
       "    </tr>\n",
       "  </thead>\n",
       "  <tbody>\n",
       "    <tr>\n",
       "      <th>0</th>\n",
       "      <td>32.825951</td>\n",
       "      <td>-83.787965</td>\n",
       "      <td>122.2</td>\n",
       "      <td>16.166179</td>\n",
       "      <td>0.006186</td>\n",
       "    </tr>\n",
       "    <tr>\n",
       "      <th>1</th>\n",
       "      <td>32.825959</td>\n",
       "      <td>-83.787957</td>\n",
       "      <td>122.3</td>\n",
       "      <td>3.812361</td>\n",
       "      <td>0.026230</td>\n",
       "    </tr>\n",
       "    <tr>\n",
       "      <th>2</th>\n",
       "      <td>32.825967</td>\n",
       "      <td>-83.787950</td>\n",
       "      <td>122.3</td>\n",
       "      <td>3.622739</td>\n",
       "      <td>0.000000</td>\n",
       "    </tr>\n",
       "    <tr>\n",
       "      <th>3</th>\n",
       "      <td>32.825975</td>\n",
       "      <td>-83.787940</td>\n",
       "      <td>122.4</td>\n",
       "      <td>4.232937</td>\n",
       "      <td>0.023624</td>\n",
       "    </tr>\n",
       "    <tr>\n",
       "      <th>4</th>\n",
       "      <td>32.825983</td>\n",
       "      <td>-83.787930</td>\n",
       "      <td>122.4</td>\n",
       "      <td>4.232937</td>\n",
       "      <td>0.000000</td>\n",
       "    </tr>\n",
       "  </tbody>\n",
       "</table>\n",
       "</div>"
      ],
      "text/plain": [
       "         lat        lon    ele          d     grade\n",
       "0  32.825951 -83.787965  122.2  16.166179  0.006186\n",
       "1  32.825959 -83.787957  122.3   3.812361  0.026230\n",
       "2  32.825967 -83.787950  122.3   3.622739  0.000000\n",
       "3  32.825975 -83.787940  122.4   4.232937  0.023624\n",
       "4  32.825983 -83.787930  122.4   4.232937  0.000000"
      ]
     },
     "execution_count": 170,
     "metadata": {},
     "output_type": "execute_result"
    }
   ],
   "source": [
    "df.head()"
   ]
  },
  {
   "cell_type": "code",
   "execution_count": 171,
   "metadata": {
    "collapsed": true
   },
   "outputs": [],
   "source": [
    "def cube_root(value):\n",
    "    if value > 0:\n",
    "        return value ** (1./3)\n",
    "    else:\n",
    "        return -((-value) ** (1./3))"
   ]
  },
  {
   "cell_type": "code",
   "execution_count": 172,
   "metadata": {
    "collapsed": true
   },
   "outputs": [],
   "source": [
    "def calc_v_ms(grade):\n",
    "    c2 = (np.sin(np.arctan(grade)) + Crr) * m_tot * g\n",
    "    p = c2 / c1\n",
    "    u3 = np.sqrt((q**2)/4 + (p**3)/27) + (-q/2)\n",
    "    v3 = -np.sqrt((q**2)/4 + (p**3)/27) + (-q/2)\n",
    "    \n",
    "    u3_cube_root = []\n",
    "    for i in u3:\n",
    "        u3_cube_root.append(cube_root(i))\n",
    "    \n",
    "    v3_cube_root = []\n",
    "    for j in v3:\n",
    "        v3_cube_root.append(cube_root(j))\n",
    "\n",
    "    return np.array(u3_cube_root) + np.array(v3_cube_root)"
   ]
  },
  {
   "cell_type": "code",
   "execution_count": 174,
   "metadata": {
    "scrolled": true
   },
   "outputs": [],
   "source": [
    "v_ms = calc_v_ms(grade)"
   ]
  },
  {
   "cell_type": "code",
   "execution_count": 175,
   "metadata": {},
   "outputs": [
    {
     "ename": "ValueError",
     "evalue": "cannot insert v_ms, already exists",
     "output_type": "error",
     "traceback": [
      "\u001b[1;31m---------------------------------------------------------------------------\u001b[0m",
      "\u001b[1;31mValueError\u001b[0m                                Traceback (most recent call last)",
      "\u001b[1;32m<ipython-input-175-1a74b23d30ec>\u001b[0m in \u001b[0;36m<module>\u001b[1;34m()\u001b[0m\n\u001b[1;32m----> 1\u001b[1;33m \u001b[0mdf\u001b[0m\u001b[1;33m.\u001b[0m\u001b[0minsert\u001b[0m\u001b[1;33m(\u001b[0m\u001b[0mloc\u001b[0m\u001b[1;33m=\u001b[0m\u001b[0mdf\u001b[0m\u001b[1;33m.\u001b[0m\u001b[0mshape\u001b[0m\u001b[1;33m[\u001b[0m\u001b[1;36m1\u001b[0m\u001b[1;33m]\u001b[0m\u001b[1;33m,\u001b[0m \u001b[0mcolumn\u001b[0m\u001b[1;33m=\u001b[0m\u001b[1;34m'v_ms'\u001b[0m\u001b[1;33m,\u001b[0m \u001b[0mvalue\u001b[0m\u001b[1;33m=\u001b[0m\u001b[0mv_ms\u001b[0m\u001b[1;33m)\u001b[0m\u001b[1;33m\u001b[0m\u001b[0m\n\u001b[0m",
      "\u001b[1;32mC:\\Users\\Trace\\Anaconda3\\lib\\site-packages\\pandas\\core\\frame.py\u001b[0m in \u001b[0;36minsert\u001b[1;34m(self, loc, column, value, allow_duplicates)\u001b[0m\n\u001b[0;32m   2447\u001b[0m         \u001b[0mvalue\u001b[0m \u001b[1;33m=\u001b[0m \u001b[0mself\u001b[0m\u001b[1;33m.\u001b[0m\u001b[0m_sanitize_column\u001b[0m\u001b[1;33m(\u001b[0m\u001b[0mcolumn\u001b[0m\u001b[1;33m,\u001b[0m \u001b[0mvalue\u001b[0m\u001b[1;33m)\u001b[0m\u001b[1;33m\u001b[0m\u001b[0m\n\u001b[0;32m   2448\u001b[0m         self._data.insert(loc, column, value,\n\u001b[1;32m-> 2449\u001b[1;33m                           allow_duplicates=allow_duplicates)\n\u001b[0m\u001b[0;32m   2450\u001b[0m \u001b[1;33m\u001b[0m\u001b[0m\n\u001b[0;32m   2451\u001b[0m     \u001b[1;32mdef\u001b[0m \u001b[0massign\u001b[0m\u001b[1;33m(\u001b[0m\u001b[0mself\u001b[0m\u001b[1;33m,\u001b[0m \u001b[1;33m**\u001b[0m\u001b[0mkwargs\u001b[0m\u001b[1;33m)\u001b[0m\u001b[1;33m:\u001b[0m\u001b[1;33m\u001b[0m\u001b[0m\n",
      "\u001b[1;32mC:\\Users\\Trace\\Anaconda3\\lib\\site-packages\\pandas\\core\\internals.py\u001b[0m in \u001b[0;36minsert\u001b[1;34m(self, loc, item, value, allow_duplicates)\u001b[0m\n\u001b[0;32m   3508\u001b[0m         \u001b[1;32mif\u001b[0m \u001b[1;32mnot\u001b[0m \u001b[0mallow_duplicates\u001b[0m \u001b[1;32mand\u001b[0m \u001b[0mitem\u001b[0m \u001b[1;32min\u001b[0m \u001b[0mself\u001b[0m\u001b[1;33m.\u001b[0m\u001b[0mitems\u001b[0m\u001b[1;33m:\u001b[0m\u001b[1;33m\u001b[0m\u001b[0m\n\u001b[0;32m   3509\u001b[0m             \u001b[1;31m# Should this be a different kind of error??\u001b[0m\u001b[1;33m\u001b[0m\u001b[1;33m\u001b[0m\u001b[0m\n\u001b[1;32m-> 3510\u001b[1;33m             \u001b[1;32mraise\u001b[0m \u001b[0mValueError\u001b[0m\u001b[1;33m(\u001b[0m\u001b[1;34m'cannot insert %s, already exists'\u001b[0m \u001b[1;33m%\u001b[0m \u001b[0mitem\u001b[0m\u001b[1;33m)\u001b[0m\u001b[1;33m\u001b[0m\u001b[0m\n\u001b[0m\u001b[0;32m   3511\u001b[0m \u001b[1;33m\u001b[0m\u001b[0m\n\u001b[0;32m   3512\u001b[0m         \u001b[1;32mif\u001b[0m \u001b[1;32mnot\u001b[0m \u001b[0misinstance\u001b[0m\u001b[1;33m(\u001b[0m\u001b[0mloc\u001b[0m\u001b[1;33m,\u001b[0m \u001b[0mint\u001b[0m\u001b[1;33m)\u001b[0m\u001b[1;33m:\u001b[0m\u001b[1;33m\u001b[0m\u001b[0m\n",
      "\u001b[1;31mValueError\u001b[0m: cannot insert v_ms, already exists"
     ]
    }
   ],
   "source": [
    "df.insert(loc=df.shape[1], column='v_ms', value=v_ms)"
   ]
  },
  {
   "cell_type": "code",
   "execution_count": 176,
   "metadata": {},
   "outputs": [
    {
     "data": {
      "text/html": [
       "<div>\n",
       "<table border=\"1\" class=\"dataframe\">\n",
       "  <thead>\n",
       "    <tr style=\"text-align: right;\">\n",
       "      <th></th>\n",
       "      <th>lat</th>\n",
       "      <th>lon</th>\n",
       "      <th>ele</th>\n",
       "      <th>d</th>\n",
       "      <th>grade</th>\n",
       "      <th>v_ms</th>\n",
       "    </tr>\n",
       "  </thead>\n",
       "  <tbody>\n",
       "    <tr>\n",
       "      <th>0</th>\n",
       "      <td>32.825951</td>\n",
       "      <td>-83.787965</td>\n",
       "      <td>122.2</td>\n",
       "      <td>16.166179</td>\n",
       "      <td>0.006186</td>\n",
       "      <td>9.157994</td>\n",
       "    </tr>\n",
       "    <tr>\n",
       "      <th>1</th>\n",
       "      <td>32.825959</td>\n",
       "      <td>-83.787957</td>\n",
       "      <td>122.3</td>\n",
       "      <td>3.812361</td>\n",
       "      <td>0.026230</td>\n",
       "      <td>6.679861</td>\n",
       "    </tr>\n",
       "    <tr>\n",
       "      <th>2</th>\n",
       "      <td>32.825967</td>\n",
       "      <td>-83.787950</td>\n",
       "      <td>122.3</td>\n",
       "      <td>3.622739</td>\n",
       "      <td>0.000000</td>\n",
       "      <td>9.988025</td>\n",
       "    </tr>\n",
       "    <tr>\n",
       "      <th>3</th>\n",
       "      <td>32.825975</td>\n",
       "      <td>-83.787940</td>\n",
       "      <td>122.4</td>\n",
       "      <td>4.232937</td>\n",
       "      <td>0.023624</td>\n",
       "      <td>6.972089</td>\n",
       "    </tr>\n",
       "    <tr>\n",
       "      <th>4</th>\n",
       "      <td>32.825983</td>\n",
       "      <td>-83.787930</td>\n",
       "      <td>122.4</td>\n",
       "      <td>4.232937</td>\n",
       "      <td>0.000000</td>\n",
       "      <td>9.988025</td>\n",
       "    </tr>\n",
       "  </tbody>\n",
       "</table>\n",
       "</div>"
      ],
      "text/plain": [
       "         lat        lon    ele          d     grade      v_ms\n",
       "0  32.825951 -83.787965  122.2  16.166179  0.006186  9.157994\n",
       "1  32.825959 -83.787957  122.3   3.812361  0.026230  6.679861\n",
       "2  32.825967 -83.787950  122.3   3.622739  0.000000  9.988025\n",
       "3  32.825975 -83.787940  122.4   4.232937  0.023624  6.972089\n",
       "4  32.825983 -83.787930  122.4   4.232937  0.000000  9.988025"
      ]
     },
     "execution_count": 176,
     "metadata": {},
     "output_type": "execute_result"
    }
   ],
   "source": [
    "df.head()"
   ]
  },
  {
   "cell_type": "code",
   "execution_count": 177,
   "metadata": {
    "collapsed": true
   },
   "outputs": [],
   "source": [
    "df['v_mph'] = df['v_ms'] * 3.6 * 0.621371"
   ]
  },
  {
   "cell_type": "code",
   "execution_count": 178,
   "metadata": {},
   "outputs": [
    {
     "data": {
      "text/html": [
       "<div>\n",
       "<table border=\"1\" class=\"dataframe\">\n",
       "  <thead>\n",
       "    <tr style=\"text-align: right;\">\n",
       "      <th></th>\n",
       "      <th>lat</th>\n",
       "      <th>lon</th>\n",
       "      <th>ele</th>\n",
       "      <th>d</th>\n",
       "      <th>grade</th>\n",
       "      <th>v_ms</th>\n",
       "      <th>v_mph</th>\n",
       "    </tr>\n",
       "  </thead>\n",
       "  <tbody>\n",
       "    <tr>\n",
       "      <th>0</th>\n",
       "      <td>32.825951</td>\n",
       "      <td>-83.787965</td>\n",
       "      <td>122.2</td>\n",
       "      <td>16.166179</td>\n",
       "      <td>0.006186</td>\n",
       "      <td>9.157994</td>\n",
       "      <td>20.485844</td>\n",
       "    </tr>\n",
       "    <tr>\n",
       "      <th>1</th>\n",
       "      <td>32.825959</td>\n",
       "      <td>-83.787957</td>\n",
       "      <td>122.3</td>\n",
       "      <td>3.812361</td>\n",
       "      <td>0.026230</td>\n",
       "      <td>6.679861</td>\n",
       "      <td>14.942418</td>\n",
       "    </tr>\n",
       "    <tr>\n",
       "      <th>2</th>\n",
       "      <td>32.825967</td>\n",
       "      <td>-83.787950</td>\n",
       "      <td>122.3</td>\n",
       "      <td>3.622739</td>\n",
       "      <td>0.000000</td>\n",
       "      <td>9.988025</td>\n",
       "      <td>22.342569</td>\n",
       "    </tr>\n",
       "    <tr>\n",
       "      <th>3</th>\n",
       "      <td>32.825975</td>\n",
       "      <td>-83.787940</td>\n",
       "      <td>122.4</td>\n",
       "      <td>4.232937</td>\n",
       "      <td>0.023624</td>\n",
       "      <td>6.972089</td>\n",
       "      <td>15.596115</td>\n",
       "    </tr>\n",
       "    <tr>\n",
       "      <th>4</th>\n",
       "      <td>32.825983</td>\n",
       "      <td>-83.787930</td>\n",
       "      <td>122.4</td>\n",
       "      <td>4.232937</td>\n",
       "      <td>0.000000</td>\n",
       "      <td>9.988025</td>\n",
       "      <td>22.342569</td>\n",
       "    </tr>\n",
       "  </tbody>\n",
       "</table>\n",
       "</div>"
      ],
      "text/plain": [
       "         lat        lon    ele          d     grade      v_ms      v_mph\n",
       "0  32.825951 -83.787965  122.2  16.166179  0.006186  9.157994  20.485844\n",
       "1  32.825959 -83.787957  122.3   3.812361  0.026230  6.679861  14.942418\n",
       "2  32.825967 -83.787950  122.3   3.622739  0.000000  9.988025  22.342569\n",
       "3  32.825975 -83.787940  122.4   4.232937  0.023624  6.972089  15.596115\n",
       "4  32.825983 -83.787930  122.4   4.232937  0.000000  9.988025  22.342569"
      ]
     },
     "execution_count": 178,
     "metadata": {},
     "output_type": "execute_result"
    }
   ],
   "source": [
    "df.head()"
   ]
  },
  {
   "cell_type": "code",
   "execution_count": 179,
   "metadata": {
    "collapsed": true
   },
   "outputs": [],
   "source": [
    "df['f_climb'] = np.sin(np.arctan(grade)) * m_tot * g"
   ]
  },
  {
   "cell_type": "code",
   "execution_count": 180,
   "metadata": {
    "collapsed": true
   },
   "outputs": [],
   "source": [
    "df['f_air'] = 0.5 * rho * df['v_ms']**2 * CDA"
   ]
  },
  {
   "cell_type": "code",
   "execution_count": 181,
   "metadata": {
    "collapsed": true
   },
   "outputs": [],
   "source": [
    "df['f_total'] = f_roll + df['f_climb'] + df['f_air']"
   ]
  },
  {
   "cell_type": "code",
   "execution_count": 182,
   "metadata": {},
   "outputs": [
    {
     "data": {
      "text/html": [
       "<div>\n",
       "<table border=\"1\" class=\"dataframe\">\n",
       "  <thead>\n",
       "    <tr style=\"text-align: right;\">\n",
       "      <th></th>\n",
       "      <th>lat</th>\n",
       "      <th>lon</th>\n",
       "      <th>ele</th>\n",
       "      <th>d</th>\n",
       "      <th>grade</th>\n",
       "      <th>v_ms</th>\n",
       "      <th>v_mph</th>\n",
       "      <th>f_climb</th>\n",
       "      <th>f_air</th>\n",
       "      <th>f_total</th>\n",
       "    </tr>\n",
       "  </thead>\n",
       "  <tbody>\n",
       "    <tr>\n",
       "      <th>0</th>\n",
       "      <td>32.825951</td>\n",
       "      <td>-83.787965</td>\n",
       "      <td>122.2</td>\n",
       "      <td>16.166179</td>\n",
       "      <td>0.006186</td>\n",
       "      <td>9.157994</td>\n",
       "      <td>20.485844</td>\n",
       "      <td>5.339935</td>\n",
       "      <td>17.310533</td>\n",
       "      <td>24.787086</td>\n",
       "    </tr>\n",
       "    <tr>\n",
       "      <th>1</th>\n",
       "      <td>32.825959</td>\n",
       "      <td>-83.787957</td>\n",
       "      <td>122.3</td>\n",
       "      <td>3.812361</td>\n",
       "      <td>0.026230</td>\n",
       "      <td>6.679861</td>\n",
       "      <td>14.942418</td>\n",
       "      <td>22.636447</td>\n",
       "      <td>9.209679</td>\n",
       "      <td>33.982745</td>\n",
       "    </tr>\n",
       "    <tr>\n",
       "      <th>2</th>\n",
       "      <td>32.825967</td>\n",
       "      <td>-83.787950</td>\n",
       "      <td>122.3</td>\n",
       "      <td>3.622739</td>\n",
       "      <td>0.000000</td>\n",
       "      <td>9.988025</td>\n",
       "      <td>22.342569</td>\n",
       "      <td>0.000000</td>\n",
       "      <td>20.590597</td>\n",
       "      <td>22.727215</td>\n",
       "    </tr>\n",
       "    <tr>\n",
       "      <th>3</th>\n",
       "      <td>32.825975</td>\n",
       "      <td>-83.787940</td>\n",
       "      <td>122.4</td>\n",
       "      <td>4.232937</td>\n",
       "      <td>0.023624</td>\n",
       "      <td>6.972089</td>\n",
       "      <td>15.596115</td>\n",
       "      <td>20.388662</td>\n",
       "      <td>10.033110</td>\n",
       "      <td>32.558390</td>\n",
       "    </tr>\n",
       "    <tr>\n",
       "      <th>4</th>\n",
       "      <td>32.825983</td>\n",
       "      <td>-83.787930</td>\n",
       "      <td>122.4</td>\n",
       "      <td>4.232937</td>\n",
       "      <td>0.000000</td>\n",
       "      <td>9.988025</td>\n",
       "      <td>22.342569</td>\n",
       "      <td>0.000000</td>\n",
       "      <td>20.590597</td>\n",
       "      <td>22.727215</td>\n",
       "    </tr>\n",
       "  </tbody>\n",
       "</table>\n",
       "</div>"
      ],
      "text/plain": [
       "         lat        lon    ele          d     grade      v_ms      v_mph  \\\n",
       "0  32.825951 -83.787965  122.2  16.166179  0.006186  9.157994  20.485844   \n",
       "1  32.825959 -83.787957  122.3   3.812361  0.026230  6.679861  14.942418   \n",
       "2  32.825967 -83.787950  122.3   3.622739  0.000000  9.988025  22.342569   \n",
       "3  32.825975 -83.787940  122.4   4.232937  0.023624  6.972089  15.596115   \n",
       "4  32.825983 -83.787930  122.4   4.232937  0.000000  9.988025  22.342569   \n",
       "\n",
       "     f_climb      f_air    f_total  \n",
       "0   5.339935  17.310533  24.787086  \n",
       "1  22.636447   9.209679  33.982745  \n",
       "2   0.000000  20.590597  22.727215  \n",
       "3  20.388662  10.033110  32.558390  \n",
       "4   0.000000  20.590597  22.727215  "
      ]
     },
     "execution_count": 182,
     "metadata": {},
     "output_type": "execute_result"
    }
   ],
   "source": [
    "df.head()"
   ]
  },
  {
   "cell_type": "code",
   "execution_count": 183,
   "metadata": {
    "collapsed": true
   },
   "outputs": [],
   "source": [
    "df['t'] = (df['d'] / 5280) / df['v_mph']"
   ]
  },
  {
   "cell_type": "code",
   "execution_count": 184,
   "metadata": {},
   "outputs": [
    {
     "data": {
      "text/html": [
       "<div>\n",
       "<table border=\"1\" class=\"dataframe\">\n",
       "  <thead>\n",
       "    <tr style=\"text-align: right;\">\n",
       "      <th></th>\n",
       "      <th>lat</th>\n",
       "      <th>lon</th>\n",
       "      <th>ele</th>\n",
       "      <th>d</th>\n",
       "      <th>grade</th>\n",
       "      <th>v_ms</th>\n",
       "      <th>v_mph</th>\n",
       "      <th>f_climb</th>\n",
       "      <th>f_air</th>\n",
       "      <th>f_total</th>\n",
       "      <th>t</th>\n",
       "    </tr>\n",
       "  </thead>\n",
       "  <tbody>\n",
       "    <tr>\n",
       "      <th>0</th>\n",
       "      <td>32.825951</td>\n",
       "      <td>-83.787965</td>\n",
       "      <td>122.2</td>\n",
       "      <td>16.166179</td>\n",
       "      <td>0.006186</td>\n",
       "      <td>9.157994</td>\n",
       "      <td>20.485844</td>\n",
       "      <td>5.339935</td>\n",
       "      <td>17.310533</td>\n",
       "      <td>24.787086</td>\n",
       "      <td>0.000149</td>\n",
       "    </tr>\n",
       "    <tr>\n",
       "      <th>1</th>\n",
       "      <td>32.825959</td>\n",
       "      <td>-83.787957</td>\n",
       "      <td>122.3</td>\n",
       "      <td>3.812361</td>\n",
       "      <td>0.026230</td>\n",
       "      <td>6.679861</td>\n",
       "      <td>14.942418</td>\n",
       "      <td>22.636447</td>\n",
       "      <td>9.209679</td>\n",
       "      <td>33.982745</td>\n",
       "      <td>0.000048</td>\n",
       "    </tr>\n",
       "    <tr>\n",
       "      <th>2</th>\n",
       "      <td>32.825967</td>\n",
       "      <td>-83.787950</td>\n",
       "      <td>122.3</td>\n",
       "      <td>3.622739</td>\n",
       "      <td>0.000000</td>\n",
       "      <td>9.988025</td>\n",
       "      <td>22.342569</td>\n",
       "      <td>0.000000</td>\n",
       "      <td>20.590597</td>\n",
       "      <td>22.727215</td>\n",
       "      <td>0.000031</td>\n",
       "    </tr>\n",
       "    <tr>\n",
       "      <th>3</th>\n",
       "      <td>32.825975</td>\n",
       "      <td>-83.787940</td>\n",
       "      <td>122.4</td>\n",
       "      <td>4.232937</td>\n",
       "      <td>0.023624</td>\n",
       "      <td>6.972089</td>\n",
       "      <td>15.596115</td>\n",
       "      <td>20.388662</td>\n",
       "      <td>10.033110</td>\n",
       "      <td>32.558390</td>\n",
       "      <td>0.000051</td>\n",
       "    </tr>\n",
       "    <tr>\n",
       "      <th>4</th>\n",
       "      <td>32.825983</td>\n",
       "      <td>-83.787930</td>\n",
       "      <td>122.4</td>\n",
       "      <td>4.232937</td>\n",
       "      <td>0.000000</td>\n",
       "      <td>9.988025</td>\n",
       "      <td>22.342569</td>\n",
       "      <td>0.000000</td>\n",
       "      <td>20.590597</td>\n",
       "      <td>22.727215</td>\n",
       "      <td>0.000036</td>\n",
       "    </tr>\n",
       "  </tbody>\n",
       "</table>\n",
       "</div>"
      ],
      "text/plain": [
       "         lat        lon    ele          d     grade      v_ms      v_mph  \\\n",
       "0  32.825951 -83.787965  122.2  16.166179  0.006186  9.157994  20.485844   \n",
       "1  32.825959 -83.787957  122.3   3.812361  0.026230  6.679861  14.942418   \n",
       "2  32.825967 -83.787950  122.3   3.622739  0.000000  9.988025  22.342569   \n",
       "3  32.825975 -83.787940  122.4   4.232937  0.023624  6.972089  15.596115   \n",
       "4  32.825983 -83.787930  122.4   4.232937  0.000000  9.988025  22.342569   \n",
       "\n",
       "     f_climb      f_air    f_total         t  \n",
       "0   5.339935  17.310533  24.787086  0.000149  \n",
       "1  22.636447   9.209679  33.982745  0.000048  \n",
       "2   0.000000  20.590597  22.727215  0.000031  \n",
       "3  20.388662  10.033110  32.558390  0.000051  \n",
       "4   0.000000  20.590597  22.727215  0.000036  "
      ]
     },
     "execution_count": 184,
     "metadata": {},
     "output_type": "execute_result"
    }
   ],
   "source": [
    "df.head()"
   ]
  },
  {
   "cell_type": "code",
   "execution_count": 185,
   "metadata": {},
   "outputs": [
    {
     "data": {
      "text/plain": [
       "2.5669078837514947"
      ]
     },
     "execution_count": 185,
     "metadata": {},
     "output_type": "execute_result"
    }
   ],
   "source": [
    "df['t'].sum()"
   ]
  },
  {
   "cell_type": "code",
   "execution_count": 186,
   "metadata": {},
   "outputs": [
    {
     "data": {
      "text/plain": [
       "56.03166225362827"
      ]
     },
     "execution_count": 186,
     "metadata": {},
     "output_type": "execute_result"
    }
   ],
   "source": [
    "df['d'].sum() / 5280"
   ]
  },
  {
   "cell_type": "code",
   "execution_count": 187,
   "metadata": {},
   "outputs": [
    {
     "data": {
      "text/plain": [
       "21.764019304548974"
      ]
     },
     "execution_count": 187,
     "metadata": {},
     "output_type": "execute_result"
    }
   ],
   "source": [
    "df['v_mph'].mean()"
   ]
  },
  {
   "cell_type": "code",
   "execution_count": 75,
   "metadata": {
    "collapsed": true
   },
   "outputs": [],
   "source": [
    "CSS_m_min = 100 / CSS"
   ]
  },
  {
   "cell_type": "code",
   "execution_count": 76,
   "metadata": {
    "collapsed": true
   },
   "outputs": [],
   "source": [
    "swim_m_min = CSS_m_min * IF"
   ]
  },
  {
   "cell_type": "code",
   "execution_count": 77,
   "metadata": {
    "collapsed": true
   },
   "outputs": [],
   "source": [
    "s_t = (1.2 * 1609.344) / (swim_m_min * 60)"
   ]
  },
  {
   "cell_type": "code",
   "execution_count": 78,
   "metadata": {
    "collapsed": true
   },
   "outputs": [],
   "source": [
    "s_TSS = IF**4 * 100 * s_t"
   ]
  },
  {
   "cell_type": "code",
   "execution_count": 79,
   "metadata": {
    "collapsed": true
   },
   "outputs": [],
   "source": [
    "b_TSS = IF**2 * 100 * df['t'].sum()"
   ]
  },
  {
   "cell_type": "code",
   "execution_count": 80,
   "metadata": {
    "collapsed": true
   },
   "outputs": [],
   "source": [
    "rFTP = 60/FTPa"
   ]
  },
  {
   "cell_type": "code",
   "execution_count": 81,
   "metadata": {
    "collapsed": true
   },
   "outputs": [],
   "source": [
    "run_min_mi = rFTP * IF"
   ]
  },
  {
   "cell_type": "code",
   "execution_count": 82,
   "metadata": {
    "collapsed": true
   },
   "outputs": [],
   "source": [
    "r_t = 13.1 / run_min_mi"
   ]
  },
  {
   "cell_type": "code",
   "execution_count": 83,
   "metadata": {
    "collapsed": true
   },
   "outputs": [],
   "source": [
    "r_TSS = IF**2 * 100 * r_t"
   ]
  },
  {
   "cell_type": "code",
   "execution_count": 84,
   "metadata": {},
   "outputs": [
    {
     "data": {
      "text/plain": [
       "1            NaN\n",
       "2            NaN\n",
       "3            NaN\n",
       "4            NaN\n",
       "5            NaN\n",
       "6            NaN\n",
       "7            NaN\n",
       "8            NaN\n",
       "9            NaN\n",
       "10           NaN\n",
       "11           NaN\n",
       "12           NaN\n",
       "13           NaN\n",
       "14           NaN\n",
       "15           NaN\n",
       "16           NaN\n",
       "17           NaN\n",
       "18           NaN\n",
       "19           NaN\n",
       "20           NaN\n",
       "21           NaN\n",
       "22           NaN\n",
       "23           NaN\n",
       "24           NaN\n",
       "25           NaN\n",
       "26           NaN\n",
       "27           NaN\n",
       "28           NaN\n",
       "29           NaN\n",
       "30           NaN\n",
       "          ...   \n",
       "9533         NaN\n",
       "9534    0.000060\n",
       "9535         NaN\n",
       "9536    0.000041\n",
       "9537         NaN\n",
       "9538    0.000030\n",
       "9539         NaN\n",
       "9540    0.000030\n",
       "9541         NaN\n",
       "9542         NaN\n",
       "9543    0.000023\n",
       "9544         NaN\n",
       "9545    0.000029\n",
       "9546         NaN\n",
       "9547         NaN\n",
       "9548    0.000032\n",
       "9549         NaN\n",
       "9550    0.000035\n",
       "9551         NaN\n",
       "9552    0.000029\n",
       "9553         NaN\n",
       "9554    0.000028\n",
       "9555         NaN\n",
       "9556    0.000027\n",
       "9557         NaN\n",
       "9558         NaN\n",
       "9559         NaN\n",
       "9560    0.000004\n",
       "9561         NaN\n",
       "9562         NaN\n",
       "Name: t, dtype: float64"
      ]
     },
     "execution_count": 84,
     "metadata": {},
     "output_type": "execute_result"
    }
   ],
   "source": [
    "df['t']"
   ]
  },
  {
   "cell_type": "code",
   "execution_count": 85,
   "metadata": {},
   "outputs": [
    {
     "data": {
      "text/plain": [
       "1             NaN\n",
       "2             NaN\n",
       "3             NaN\n",
       "4             NaN\n",
       "5             NaN\n",
       "6             NaN\n",
       "7             NaN\n",
       "8             NaN\n",
       "9             NaN\n",
       "10            NaN\n",
       "11            NaN\n",
       "12            NaN\n",
       "13            NaN\n",
       "14            NaN\n",
       "15            NaN\n",
       "16            NaN\n",
       "17            NaN\n",
       "18            NaN\n",
       "19            NaN\n",
       "20            NaN\n",
       "21            NaN\n",
       "22            NaN\n",
       "23            NaN\n",
       "24            NaN\n",
       "25            NaN\n",
       "26            NaN\n",
       "27            NaN\n",
       "28            NaN\n",
       "29            NaN\n",
       "30            NaN\n",
       "          ...    \n",
       "9533          NaN\n",
       "9534    11.619578\n",
       "9535          NaN\n",
       "9536    12.233558\n",
       "9537          NaN\n",
       "9538    12.911641\n",
       "9539          NaN\n",
       "9540    12.897217\n",
       "9541          NaN\n",
       "9542          NaN\n",
       "9543    13.629107\n",
       "9544          NaN\n",
       "9545    12.960594\n",
       "9546          NaN\n",
       "9547          NaN\n",
       "9548    12.746904\n",
       "9549          NaN\n",
       "9550    12.583272\n",
       "9551          NaN\n",
       "9552    12.994966\n",
       "9553          NaN\n",
       "9554    13.084255\n",
       "9555          NaN\n",
       "9556    13.196769\n",
       "9557          NaN\n",
       "9558          NaN\n",
       "9559          NaN\n",
       "9560    10.322195\n",
       "9561          NaN\n",
       "9562          NaN\n",
       "Name: v_ms, dtype: float64"
      ]
     },
     "execution_count": 85,
     "metadata": {},
     "output_type": "execute_result"
    }
   ],
   "source": [
    "df['v_ms']"
   ]
  },
  {
   "cell_type": "code",
   "execution_count": 86,
   "metadata": {},
   "outputs": [
    {
     "data": {
      "text/plain": [
       "1       1155.239947\n",
       "2       1099.843557\n",
       "3       1141.962824\n",
       "4       1099.843557\n",
       "5       1155.239968\n",
       "6       1099.843557\n",
       "7       1161.986955\n",
       "8       1099.843557\n",
       "9       1099.843557\n",
       "10      1148.274760\n",
       "11      1099.843557\n",
       "12      1099.843557\n",
       "13      1155.240023\n",
       "14      1099.843557\n",
       "15      1099.843557\n",
       "16      1166.800268\n",
       "17      1099.843557\n",
       "18      1099.843557\n",
       "19      1138.404041\n",
       "20      1099.843557\n",
       "21      1127.544895\n",
       "22      1099.843557\n",
       "23      1131.746024\n",
       "24      1099.843557\n",
       "25      1099.843557\n",
       "26      1099.843557\n",
       "27      1114.799053\n",
       "28      1099.843557\n",
       "29      1099.843557\n",
       "30      1099.843557\n",
       "           ...     \n",
       "9533    1099.843557\n",
       "9534    1097.587177\n",
       "9535    1099.843557\n",
       "9536    1092.571846\n",
       "9537    1099.843557\n",
       "9538    1081.241738\n",
       "9539    1099.843557\n",
       "9540    1081.564723\n",
       "9541    1099.843557\n",
       "9542    1099.843557\n",
       "9543    1059.263831\n",
       "9544    1099.843557\n",
       "9545    1080.115027\n",
       "9546    1099.843557\n",
       "9547    1099.843557\n",
       "9548    1084.696734\n",
       "9549    1099.843557\n",
       "9550    1087.651182\n",
       "9551    1099.843557\n",
       "9552    1079.295171\n",
       "9553    1099.843557\n",
       "9554    1077.050868\n",
       "9555    1099.843557\n",
       "9556    1073.976239\n",
       "9557    1099.843557\n",
       "9558    1099.843557\n",
       "9559    1099.843557\n",
       "9560    1099.806202\n",
       "9561    1099.843557\n",
       "9562            NaN\n",
       "Name: u3, dtype: float64"
      ]
     },
     "execution_count": 86,
     "metadata": {},
     "output_type": "execute_result"
    }
   ],
   "source": [
    "df['u3']"
   ]
  },
  {
   "cell_type": "code",
   "execution_count": 90,
   "metadata": {},
   "outputs": [
    {
     "data": {
      "text/plain": [
       "1      -55.433745\n",
       "2       -0.037356\n",
       "3      -42.156622\n",
       "4       -0.037356\n",
       "5      -55.433767\n",
       "6       -0.037356\n",
       "7      -62.180753\n",
       "8       -0.037356\n",
       "9       -0.037356\n",
       "10     -48.468558\n",
       "11      -0.037356\n",
       "12      -0.037356\n",
       "13     -55.433821\n",
       "14      -0.037356\n",
       "15      -0.037356\n",
       "16     -66.994067\n",
       "17      -0.037356\n",
       "18      -0.037356\n",
       "19     -38.597840\n",
       "20      -0.037356\n",
       "21     -27.738693\n",
       "22      -0.037356\n",
       "23     -31.939822\n",
       "24      -0.037356\n",
       "25      -0.037356\n",
       "26      -0.037356\n",
       "27     -14.992852\n",
       "28      -0.037356\n",
       "29      -0.037356\n",
       "30      -0.037356\n",
       "          ...    \n",
       "9533    -0.037356\n",
       "9534     2.219024\n",
       "9535    -0.037356\n",
       "9536     7.234356\n",
       "9537    -0.037356\n",
       "9538    18.564463\n",
       "9539    -0.037356\n",
       "9540    18.241478\n",
       "9541    -0.037356\n",
       "9542    -0.037356\n",
       "9543    40.542370\n",
       "9544    -0.037356\n",
       "9545    19.691174\n",
       "9546    -0.037356\n",
       "9547    -0.037356\n",
       "9548    15.109467\n",
       "9549    -0.037356\n",
       "9550    12.155019\n",
       "9551    -0.037356\n",
       "9552    20.511031\n",
       "9553    -0.037356\n",
       "9554    22.755334\n",
       "9555    -0.037356\n",
       "9556    25.829963\n",
       "9557    -0.037356\n",
       "9558    -0.037356\n",
       "9559    -0.037356\n",
       "9560     0.000000\n",
       "9561    -0.037356\n",
       "9562          NaN\n",
       "Name: v3, dtype: float64"
      ]
     },
     "execution_count": 90,
     "metadata": {},
     "output_type": "execute_result"
    }
   ],
   "source": [
    "df['v3']"
   ]
  },
  {
   "cell_type": "code",
   "execution_count": 91,
   "metadata": {
    "collapsed": true
   },
   "outputs": [],
   "source": [
    "def cube_root(value):\n",
    "    if value > 0:\n",
    "        return value ** 1./3\n",
    "    else:\n",
    "        return -((-value) ** 1./3)"
   ]
  },
  {
   "cell_type": "code",
   "execution_count": null,
   "metadata": {
    "collapsed": true
   },
   "outputs": [],
   "source": [
    "def calc_v_ms(row):\n",
    "    return cube_root(row['u3']) + cube_root(row['v3'])"
   ]
  }
 ],
 "metadata": {
  "anaconda-cloud": {},
  "kernelspec": {
   "display_name": "Python [conda root]",
   "language": "python",
   "name": "conda-root-py"
  },
  "language_info": {
   "codemirror_mode": {
    "name": "ipython",
    "version": 3
   },
   "file_extension": ".py",
   "mimetype": "text/x-python",
   "name": "python",
   "nbconvert_exporter": "python",
   "pygments_lexer": "ipython3",
   "version": "3.5.2"
  }
 },
 "nbformat": 4,
 "nbformat_minor": 2
}
