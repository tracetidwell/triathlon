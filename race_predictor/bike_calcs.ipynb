{
 "cells": [
  {
   "cell_type": "code",
   "execution_count": 1,
   "metadata": {
    "collapsed": true
   },
   "outputs": [],
   "source": [
    "import numpy as np\n",
    "import pandas as pd\n",
    "import math\n",
    "import bike\n",
    "import time\n",
    "import matplotlib.pyplot as plt\n",
    "%matplotlib inline"
   ]
  },
  {
   "cell_type": "code",
   "execution_count": 2,
   "metadata": {
    "collapsed": true
   },
   "outputs": [],
   "source": [
    "tss_dict = {'olympic': \n",
    "                {'swim': {'min': 30, 'max': 40},\n",
    "                 'bike': {'min': 90, 'max': 110},\n",
    "                 'run': {'min': 50, 'max': 70}},\n",
    "            'half':\n",
    "                {'swim': {'min': 50, 'max': 70},\n",
    "                 'bike': {'min': 160, 'max': 190},\n",
    "                 'run': {'min': 110, 'max': 130}},\n",
    "            'full':\n",
    "                {'swim': {'min': 100, 'max': 130},\n",
    "                 'bike': {'min': 280, 'max': 360},\n",
    "                 'run': {'min': 200, 'max': 250}}}"
   ]
  },
  {
   "cell_type": "code",
   "execution_count": 3,
   "metadata": {
    "collapsed": true
   },
   "outputs": [],
   "source": [
    "dist_dict = {'olympic': \n",
    "                {'swim': 0.93,\n",
    "                'bike': 24.85,\n",
    "                'run': 6.21},\n",
    "            'half':\n",
    "                {'swim': 1.2,\n",
    "                'bike': 56,\n",
    "                'run': 13.1},\n",
    "            'full':\n",
    "                {'swim': 2.4,\n",
    "                'bike': 112,\n",
    "                'run': 26.2}}"
   ]
  },
  {
   "cell_type": "code",
   "execution_count": 4,
   "metadata": {
    "collapsed": true
   },
   "outputs": [],
   "source": [
    "race_type = 'half'"
   ]
  },
  {
   "cell_type": "code",
   "execution_count": 5,
   "metadata": {
    "collapsed": true
   },
   "outputs": [],
   "source": [
    "css = '0:01:23' #min/100yd\n",
    "swim_if = 0.92"
   ]
  },
  {
   "cell_type": "code",
   "execution_count": 6,
   "metadata": {
    "collapsed": true
   },
   "outputs": [],
   "source": [
    "bike_course = 'GPX-Route_6863_340.gpx'\n",
    "bike_ftp = 240 #W\n",
    "mass = 75\n",
    "intensities = [0.5, 0.65, 0.75, .85, .95, 1.2]"
   ]
  },
  {
   "cell_type": "code",
   "execution_count": 7,
   "metadata": {
    "collapsed": true
   },
   "outputs": [],
   "source": [
    "run_ftpa = '0:06:59' #min/mile\n",
    "run_if = 0.79"
   ]
  },
  {
   "cell_type": "code",
   "execution_count": 8,
   "metadata": {
    "collapsed": true
   },
   "outputs": [],
   "source": [
    "css_yd_min = 100 / (time.strptime(css, '%H:%M:%S')[4] + time.strptime(css, '%H:%M:%S')[5]/60)\n",
    "swim_speed_yd_min = css_yd_min * swim_if\n",
    "swim_pace_min_100yd = 100 / swim_speed_yd_min\n",
    "swim_time = (dist_dict[race_type]['swim'] * 1760) / (swim_speed_yd_min * 60)\n",
    "swim_tss = swim_if**3 * 100 * swim_time"
   ]
  },
  {
   "cell_type": "code",
   "execution_count": 9,
   "metadata": {},
   "outputs": [],
   "source": [
    "bike = bike.Bike(bike_course, bike_ftp, mass, intensities)\n",
    "bike.predict()\n",
    "bike_time = bike.total_time\n",
    "norm_power = bike.norm_power\n",
    "avg_power = bike.avg_power\n",
    "vi = bike.vi\n",
    "bike_tss = bike.tss"
   ]
  },
  {
   "cell_type": "code",
   "execution_count": 10,
   "metadata": {
    "collapsed": true
   },
   "outputs": [],
   "source": [
    "run_ftp = 60 / (time.strptime(run_ftpa, '%H:%M:%S')[4] + time.strptime(run_ftpa, '%H:%M:%S')[5]/60)\n",
    "run_speed_mph = run_ftp * run_if\n",
    "run_pace_min_mi = 60 / run_speed_mph\n",
    "run_time = dist_dict[race_type]['run'] / run_speed_mph\n",
    "run_tss = run_if**2 * 100 * run_time"
   ]
  },
  {
   "cell_type": "code",
   "execution_count": 11,
   "metadata": {
    "collapsed": true
   },
   "outputs": [],
   "source": [
    "race_time = swim_time + bike_time + run_time + (3/60)\n",
    "race_tss = swim_tss + bike_tss + run_tss"
   ]
  },
  {
   "cell_type": "code",
   "execution_count": 12,
   "metadata": {},
   "outputs": [
    {
     "name": "stdout",
     "output_type": "stream",
     "text": [
      "Swim Data\n",
      "Swim time is 00:31:45.\n",
      "Swim TSS is 41.21.\n",
      "Swim pace is 00:01:30/100yd.\n",
      "\n",
      "Bike Data\n",
      "Bike time is 03:04:31.\n",
      "Bike TSS is 184.72.\n",
      "Bike power is 179.82 W.\n",
      "\n",
      "Run Data\n",
      "Run time is 01:55:47.\n",
      "Run TSS is 120.45.\n",
      "Run pace is 00:08:50/mi.\n",
      "\n",
      "Race Data\n",
      "Race time is 05:35:04.\n",
      "Race TSS is 346.38.\n"
     ]
    }
   ],
   "source": [
    "print('Swim Data\\n' + \n",
    "      'Swim time is {:}'.format(time.strftime(\"%H:%M:%S\", time.gmtime(swim_time*60*60))) + '.\\n' +\n",
    "      'Swim TSS is {:.2f}'.format(swim_tss) + '.\\n' + \n",
    "      'Swim pace is {:}'.format(time.strftime(\"%H:%M:%S\", time.gmtime(swim_pace_min_100yd*60))) + '/100yd.\\n')\n",
    "\n",
    "print('Bike Data\\n' +\n",
    "      'Bike time is {:}'.format(time.strftime(\"%H:%M:%S\", time.gmtime(bike_time*60*60))) + '.\\n' +\n",
    "      'Bike TSS is {:.2f}'.format(bike_tss) + '.\\n' + \n",
    "      'Bike power is {:.2f}'.format(avg_power) + ' W.\\n')\n",
    "\n",
    "print('Run Data\\n' +\n",
    "      'Run time is {:}'.format(time.strftime(\"%H:%M:%S\", time.gmtime(run_time*60*60))) + '.\\n' + \n",
    "      'Run TSS is {:.2f}'.format(run_tss) + '.\\n' + \n",
    "      'Run pace is {:}'.format(time.strftime(\"%H:%M:%S\", time.gmtime(run_pace_min_mi*60))) + '/mi.\\n')\n",
    "\n",
    "print('Race Data\\n' +\n",
    "      'Race time is {:}'.format(time.strftime(\"%H:%M:%S\", time.gmtime(race_time*60*60))) + '.\\n' +\n",
    "      'Race TSS is {:.2f}'.format(race_tss) + '.')"
   ]
  },
  {
   "cell_type": "code",
   "execution_count": 14,
   "metadata": {},
   "outputs": [
    {
     "data": {
      "text/plain": [
       "0.775"
      ]
     },
     "execution_count": 14,
     "metadata": {},
     "output_type": "execute_result"
    }
   ],
   "source": [
    "bike.intensity_factor"
   ]
  },
  {
   "cell_type": "code",
   "execution_count": 15,
   "metadata": {},
   "outputs": [
    {
     "data": {
      "text/plain": [
       "1.0343719211876012"
      ]
     },
     "execution_count": 15,
     "metadata": {},
     "output_type": "execute_result"
    }
   ],
   "source": [
    "bike.vi"
   ]
  },
  {
   "cell_type": "code",
   "execution_count": 16,
   "metadata": {},
   "outputs": [
    {
     "data": {
      "text/plain": [
       "186"
      ]
     },
     "execution_count": 16,
     "metadata": {},
     "output_type": "execute_result"
    }
   ],
   "source": [
    "bike.norm_power"
   ]
  },
  {
   "cell_type": "code",
   "execution_count": 20,
   "metadata": {},
   "outputs": [],
   "source": [
    "d = np.zeros(len(bike.distance))"
   ]
  },
  {
   "cell_type": "code",
   "execution_count": 29,
   "metadata": {},
   "outputs": [],
   "source": [
    "for i in range(1, len(bike.distance)):\n",
    "    d[i] = bike.distance[i] + d[i-1]"
   ]
  },
  {
   "cell_type": "code",
   "execution_count": 31,
   "metadata": {},
   "outputs": [
    {
     "data": {
      "text/plain": [
       "[<matplotlib.lines.Line2D at 0x1a55cb6d630>]"
      ]
     },
     "execution_count": 31,
     "metadata": {},
     "output_type": "execute_result"
    },
    {
     "data": {
      "image/png": "[encoded data removed]",
      "text/plain": [
       "<matplotlib.figure.Figure at 0x1a55ca75c88>"
      ]
     },
     "metadata": {},
     "output_type": "display_data"
    }
   ],
   "source": [
    "plt.plot(d, bike.power)"
   ]
  },
  {
   "cell_type": "code",
   "execution_count": null,
   "metadata": {
    "collapsed": true
   },
   "outputs": [],
   "source": []
  }
 ],
 "metadata": {
  "anaconda-cloud": {},
  "kernelspec": {
   "display_name": "Python [conda root]",
   "language": "python",
   "name": "conda-root-py"
  },
  "language_info": {
   "codemirror_mode": {
    "name": "ipython",
    "version": 3
   },
   "file_extension": ".py",
   "mimetype": "text/x-python",
   "name": "python",
   "nbconvert_exporter": "python",
   "pygments_lexer": "ipython3",
   "version": "3.5.4"
  }
 },
 "nbformat": 4,
 "nbformat_minor": 2
}
